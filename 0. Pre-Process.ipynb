{
 "cells": [
  {
   "cell_type": "code",
   "execution_count": null,
   "metadata": {},
   "outputs": [],
   "source": [
    "#Import Packages\n",
    "import pandas as pd\n",
    "import numpy as np\n",
    "import random\n",
    "import re"
   ]
  },
  {
   "cell_type": "code",
   "execution_count": 1,
   "metadata": {},
   "outputs": [],
   "source": [
    "#Load Data\n",
    "X = pd.read_csv('./Data/training_set_rel3.tsv', sep='\\t', encoding='ISO-8859-1')\n",
    "\n",
    "#Prompt ID\n",
    "ASAPsets = [2]\n",
    "\n",
    "#Test Set Selection\n",
    "sampleSize = 50\n",
    "seed = 27"
   ]
  },
  {
   "cell_type": "code",
   "execution_count": null,
   "metadata": {},
   "outputs": [],
   "source": [
    "#Pre-process\n",
    "X = X.rename(columns={\"essay\": \"Text\", \"essay_set\": \"Set\"})\n",
    "X = X.loc[X['Set'].isin(ASAPsets)]\n",
    "\n",
    "X = X.dropna(axis=1)\n",
    "X['Index'] = np.arange(0, len(X))\n",
    "X['Grade'] = X['domain1_score'] + X['domain2_score']\n",
    "X['Text'] = X['Text'].str.replace(r'\\.+', \". \",)\n",
    "X['Text'] = X['Text'].str.replace(r'\\ +', \" \",)\n",
    "\n",
    "X = X[['Index', 'Text', 'Grade']]\n",
    "X['Grade'] = X['Grade'].apply(lambda x: x/10)\n",
    "X = X.reset_index(drop=True)\n",
    "\n",
    "#Add variables\n",
    "for index, row in X.iterrows():\n",
    "    essay = row['Text']\n",
    "    grade = row['Grade']\n",
    "    sentences = re.split('\\? |\\! |\\.', essay)[:-1]\n",
    "    words = essay.split(' ')\n",
    "    X.at[index, 'sentences'] = len(sentences)\n",
    "    X.at[index, 'words'] = len(essay)"
   ]
  },
  {
   "cell_type": "code",
   "execution_count": null,
   "metadata": {},
   "outputs": [],
   "source": [
    "#Produce Train/Test split\n",
    "np.random.seed(seed)\n",
    "test = X.loc[np.random.choice(X.index, size=sampleSize, replace=False)]\n",
    "X.drop(test.index, inplace=True)\n",
    "train = X\n",
    "test = test.reset_index(drop=True)\n",
    "train = train.reset_index(drop=True)\n",
    "\n",
    "train.to_csv('./Data/train.csv', index=False)\n",
    "test.to_csv('./Data/test.csv', index=False)"
   ]
  }
 ],
 "metadata": {
  "kernelspec": {
   "display_name": "Python 3",
   "language": "python",
   "name": "python3"
  },
  "language_info": {
   "codemirror_mode": {
    "name": "ipython",
    "version": 3
   },
   "file_extension": ".py",
   "mimetype": "text/x-python",
   "name": "python",
   "nbconvert_exporter": "python",
   "pygments_lexer": "ipython3",
   "version": "3.8.10"
  }
 },
 "nbformat": 4,
 "nbformat_minor": 2
}
